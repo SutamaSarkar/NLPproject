{
 "cells": [
  {
   "cell_type": "code",
   "execution_count": null,
   "id": "a780c5fb-a0f0-4fe3-a616-3a91fee53e1c",
   "metadata": {},
   "outputs": [
    {
     "name": "stdin",
     "output_type": "stream",
     "text": [
      " Enter a Bengali sentence to analyze:  তুই একটা বোকাচোদা\n"
     ]
    }
   ],
   "source": [
    "import difflib\n",
    "import re\n",
    "import pandas as pd\n",
    "\n",
    "# Load the uploaded dataset\n",
    "df = pd.read_csv(r\"C:\\Users\\SUTAMA SARKAR\\Downloads\\Bengali hate speech .csv\")\n",
    "\n",
    "sentence_list = df['sentence'].astype(str).tolist()\n",
    "hate_labels = df['hate'].tolist()\n",
    "dataset = list(zip(sentence_list, hate_labels))\n",
    "\n",
    "# Expanded list of offensive base words\n",
    "offensive_base_words = [\n",
    "    \"শালা\", \"হারামি\", \"চুদ\", \"মাদারচোদ\", \"লুচ্চা\", \"বদমাশ\", \"চরিত্রহীন\",\n",
    "    \"খানকি\", \"রেন্ডি\", \"চোদ\", \"মাগি\", \"তোর মায়ের\", \"বেশ্যা\", \"নষ্টা\", \"চুদি\"\n",
    "]\n",
    "\n",
    "# Try to reverse obfuscation to root words\n",
    "def guess_offensive_root(word, candidates=offensive_base_words):\n",
    "    clean_word = re.sub(r\"[^\\u0980-\\u09FF]\", \"\", word)  # keep only Bengali characters\n",
    "    matches = difflib.get_close_matches(clean_word, candidates, n=1, cutoff=0.5)\n",
    "    return matches[0] if matches else None\n",
    "\n",
    "# Convert an obfuscated sentence to possible root words\n",
    "def reverse_transform_sentence(sentence):\n",
    "    words = sentence.split()\n",
    "    transformed_words = []\n",
    "    for word in words:\n",
    "        guess = guess_offensive_root(word)\n",
    "        transformed_words.append(guess if guess else word)\n",
    "    return \" \".join(transformed_words)\n",
    "\n",
    "# Compare input with dataset and return top similar matches\n",
    "def match_probability(transformed_input, dataset, top_n=3):\n",
    "    scored = [(sent, label, difflib.SequenceMatcher(None, transformed_input, sent).ratio()) \n",
    "              for sent, label in dataset]\n",
    "    scored.sort(key=lambda x: x[2], reverse=True)\n",
    "    return scored[:top_n]\n",
    "\n",
    "# Main detection function\n",
    "def detect_offensive_bengali_input(user_input):\n",
    "    transformed = reverse_transform_sentence(user_input)\n",
    "    top_matches = match_probability(transformed, dataset)\n",
    "\n",
    "   # print(f\"\\n Transformed Sentence: {transformed}\")\n",
    "    for match, label, score in top_matches:\n",
    "        print(f\"\\n Match: {match}\")\n",
    "        print(f\" Similarity: {score:.2f}\")\n",
    "        print(f\" Offensive: {'Yes' if label == 1 else 'No'}\")\n",
    "\n",
    "    avg_score = sum(score for _, _, score in top_matches) / len(top_matches)\n",
    "    avg_label = round(sum(label for _, label, _ in top_matches) / len(top_matches))\n",
    "\n",
    "    print(f\"\\n Final Verdict: {'Offensive' if avg_label == 1 else 'Not Offensive'}\")\n",
    "    print(f\"📈 Confidence (avg similarity): {avg_score:.2f}\")\n",
    "\n",
    "\n",
    "if __name__ == \"__main__\":\n",
    "    user_text = input(\" Enter a Bengali sentence to analyze: \")\n",
    "    detect_offensive_bengali_input(user_text)\n"
   ]
  },
  {
   "cell_type": "code",
   "execution_count": null,
   "id": "6eb642b5-6f84-40d6-8e72-2c6643e735f1",
   "metadata": {},
   "outputs": [],
   "source": []
  }
 ],
 "metadata": {
  "kernelspec": {
   "display_name": "Python 3 (ipykernel)",
   "language": "python",
   "name": "python3"
  },
  "language_info": {
   "codemirror_mode": {
    "name": "ipython",
    "version": 3
   },
   "file_extension": ".py",
   "mimetype": "text/x-python",
   "name": "python",
   "nbconvert_exporter": "python",
   "pygments_lexer": "ipython3",
   "version": "3.12.7"
  }
 },
 "nbformat": 4,
 "nbformat_minor": 5
}
